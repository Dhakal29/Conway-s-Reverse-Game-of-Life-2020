{
 "cells": [
  {
   "cell_type": "code",
   "execution_count": 1,
   "metadata": {
    "_cell_guid": "b1076dfc-b9ad-4769-8c92-a6c4dae69d19",
    "_uuid": "8f2839f25d086af736a60e9eeb907d3b93b6e0e5",
    "execution": {
     "iopub.execute_input": "2020-11-26T09:47:33.143156Z",
     "iopub.status.busy": "2020-11-26T09:47:33.142171Z",
     "iopub.status.idle": "2020-11-26T09:47:33.147571Z",
     "shell.execute_reply": "2020-11-26T09:47:33.148419Z"
    },
    "papermill": {
     "duration": 0.034609,
     "end_time": "2020-11-26T09:47:33.148618",
     "exception": false,
     "start_time": "2020-11-26T09:47:33.114009",
     "status": "completed"
    },
    "tags": []
   },
   "outputs": [
    {
     "name": "stdout",
     "output_type": "stream",
     "text": [
      "/kaggle/input/conways-reverse-game-of-life-2020/train.csv\n",
      "/kaggle/input/conways-reverse-game-of-life-2020/test.csv\n",
      "/kaggle/input/conways-reverse-game-of-life-2020/sample_submission.csv\n"
     ]
    }
   ],
   "source": [
    "# This Python 3 environment comes with many helpful analytics libraries installed\n",
    "# It is defined by the kaggle/python Docker image: https://github.com/kaggle/docker-python\n",
    "# For example, here's several helpful packages to load\n",
    "\n",
    "import numpy as np # linear algebra\n",
    "import pandas as pd # data processing, CSV file I/O (e.g. pd.read_csv)\n",
    "\n",
    "# Input data files are available in the read-only \"../input/\" directory\n",
    "# For example, running this (by clicking run or pressing Shift+Enter) will list all files under the input directory\n",
    "\n",
    "import os\n",
    "for dirname, _, filenames in os.walk('/kaggle/input'):\n",
    "    for filename in filenames:\n",
    "        print(os.path.join(dirname, filename))\n",
    "\n",
    "# You can write up to 20GB to the current directory (/kaggle/working/) that gets preserved as output when you create a version using \"Save & Run All\" \n",
    "# You can also write temporary files to /kaggle/temp/, but they won't be saved outside of the current session"
   ]
  },
  {
   "cell_type": "code",
   "execution_count": 2,
   "metadata": {
    "_cell_guid": "79c7e3d0-c299-4dcb-8224-4455121ee9b0",
    "_uuid": "d629ff2d2480ee46fbb7e2d37f6b5fab8052498a",
    "execution": {
     "iopub.execute_input": "2020-11-26T09:47:33.197515Z",
     "iopub.status.busy": "2020-11-26T09:47:33.196778Z",
     "iopub.status.idle": "2020-11-26T09:47:34.018937Z",
     "shell.execute_reply": "2020-11-26T09:47:34.017849Z"
    },
    "papermill": {
     "duration": 0.847923,
     "end_time": "2020-11-26T09:47:34.019066",
     "exception": false,
     "start_time": "2020-11-26T09:47:33.171143",
     "status": "completed"
    },
    "tags": []
   },
   "outputs": [],
   "source": [
    "import pandas as pd\n",
    "import numpy as np\n",
    "import matplotlib.pyplot as plt\n",
    "import seaborn as sns"
   ]
  },
  {
   "cell_type": "code",
   "execution_count": 3,
   "metadata": {
    "execution": {
     "iopub.execute_input": "2020-11-26T09:47:34.069738Z",
     "iopub.status.busy": "2020-11-26T09:47:34.068973Z",
     "iopub.status.idle": "2020-11-26T09:47:43.083324Z",
     "shell.execute_reply": "2020-11-26T09:47:43.082357Z"
    },
    "papermill": {
     "duration": 9.041632,
     "end_time": "2020-11-26T09:47:43.083506",
     "exception": false,
     "start_time": "2020-11-26T09:47:34.041874",
     "status": "completed"
    },
    "tags": []
   },
   "outputs": [],
   "source": [
    "if __name__ == \"__main__\":\n",
    "    training = pd.read_csv('/kaggle/input/conways-reverse-game-of-life-2020/train.csv')\n",
    "    test = pd.read_csv('/kaggle/input/conways-reverse-game-of-life-2020/test.csv')"
   ]
  },
  {
   "cell_type": "code",
   "execution_count": 4,
   "metadata": {
    "execution": {
     "iopub.execute_input": "2020-11-26T09:47:43.135160Z",
     "iopub.status.busy": "2020-11-26T09:47:43.134552Z",
     "iopub.status.idle": "2020-11-26T09:47:43.138379Z",
     "shell.execute_reply": "2020-11-26T09:47:43.138912Z"
    },
    "papermill": {
     "duration": 0.032798,
     "end_time": "2020-11-26T09:47:43.139043",
     "exception": false,
     "start_time": "2020-11-26T09:47:43.106245",
     "status": "completed"
    },
    "tags": []
   },
   "outputs": [],
   "source": [
    "start_features = [f for f in training.columns if \"start\" in f]\n",
    "stop_features = [f for f in test.columns if \"stop\" in f]\n",
    "features_in = stop_features+[\"delta\"]"
   ]
  },
  {
   "cell_type": "code",
   "execution_count": 5,
   "metadata": {
    "execution": {
     "iopub.execute_input": "2020-11-26T09:47:43.191934Z",
     "iopub.status.busy": "2020-11-26T09:47:43.191240Z",
     "iopub.status.idle": "2020-11-26T09:47:43.513968Z",
     "shell.execute_reply": "2020-11-26T09:47:43.514614Z"
    },
    "papermill": {
     "duration": 0.353641,
     "end_time": "2020-11-26T09:47:43.514771",
     "exception": false,
     "start_time": "2020-11-26T09:47:43.161130",
     "status": "completed"
    },
    "tags": []
   },
   "outputs": [
    {
     "data": {
      "text/plain": [
       "Text(0.5, 1.0, 'Stop')"
      ]
     },
     "execution_count": 5,
     "metadata": {},
     "output_type": "execute_result"
    },
    {
     "data": {
      "image/png": "[encoded data removed]",
      "text/plain": [
       "<Figure size 432x288 with 2 Axes>"
      ]
     },
     "metadata": {
      "needs_background": "light"
     },
     "output_type": "display_data"
    }
   ],
   "source": [
    "#Visualize sample\n",
    "idx = 3\n",
    "\n",
    "fig, (ax1, ax2) = plt.subplots(1, 2)\n",
    "fig.suptitle(f'Delta: {training.loc[idx, \"delta\"]}')\n",
    "ax1.imshow(1-(training.loc[idx, start_features].values).reshape(25, 25), cmap=\"gray\")\n",
    "ax1.set_title(\"Start\")\n",
    "ax2.imshow(1-(training.loc[idx, stop_features].values).reshape(25, 25), cmap=\"gray\")\n",
    "ax2.set_title(\"Stop\")"
   ]
  },
  {
   "cell_type": "code",
   "execution_count": 6,
   "metadata": {
    "execution": {
     "iopub.execute_input": "2020-11-26T09:47:43.574152Z",
     "iopub.status.busy": "2020-11-26T09:47:43.573154Z",
     "iopub.status.idle": "2020-11-26T09:47:44.089744Z",
     "shell.execute_reply": "2020-11-26T09:47:44.089156Z"
    },
    "papermill": {
     "duration": 0.549182,
     "end_time": "2020-11-26T09:47:44.089865",
     "exception": false,
     "start_time": "2020-11-26T09:47:43.540683",
     "status": "completed"
    },
    "tags": []
   },
   "outputs": [],
   "source": [
    "training = training.sample(frac=1).reset_index(drop=True) #shuffling the data"
   ]
  },
  {
   "cell_type": "code",
   "execution_count": 7,
   "metadata": {
    "execution": {
     "iopub.execute_input": "2020-11-26T09:47:44.141628Z",
     "iopub.status.busy": "2020-11-26T09:47:44.140866Z",
     "iopub.status.idle": "2020-11-26T09:47:44.144964Z",
     "shell.execute_reply": "2020-11-26T09:47:44.144504Z"
    },
    "papermill": {
     "duration": 0.031617,
     "end_time": "2020-11-26T09:47:44.145058",
     "exception": false,
     "start_time": "2020-11-26T09:47:44.113441",
     "status": "completed"
    },
    "tags": []
   },
   "outputs": [],
   "source": [
    "import re\n",
    "def filter_string(str_arr, regex): \n",
    "    p = re.compile(regex)\n",
    "    return [ s for s in str_arr if p.match(s) ]"
   ]
  },
  {
   "cell_type": "code",
   "execution_count": 8,
   "metadata": {
    "execution": {
     "iopub.execute_input": "2020-11-26T09:47:44.198632Z",
     "iopub.status.busy": "2020-11-26T09:47:44.197853Z",
     "iopub.status.idle": "2020-11-26T09:47:44.201166Z",
     "shell.execute_reply": "2020-11-26T09:47:44.200697Z"
    },
    "papermill": {
     "duration": 0.032922,
     "end_time": "2020-11-26T09:47:44.201257",
     "exception": false,
     "start_time": "2020-11-26T09:47:44.168335",
     "status": "completed"
    },
    "tags": []
   },
   "outputs": [],
   "source": [
    "start_column = filter_string(training.columns,'start')\n",
    "stop_column = filter_string(training.columns,'stop')"
   ]
  },
  {
   "cell_type": "code",
   "execution_count": 9,
   "metadata": {
    "execution": {
     "iopub.execute_input": "2020-11-26T09:47:44.332683Z",
     "iopub.status.busy": "2020-11-26T09:47:44.256915Z",
     "iopub.status.idle": "2020-11-26T09:47:44.410852Z",
     "shell.execute_reply": "2020-11-26T09:47:44.410271Z"
    },
    "papermill": {
     "duration": 0.185236,
     "end_time": "2020-11-26T09:47:44.410972",
     "exception": false,
     "start_time": "2020-11-26T09:47:44.225736",
     "status": "completed"
    },
    "tags": []
   },
   "outputs": [],
   "source": [
    "X = training[start_column][:50000].to_numpy()\n",
    "Y = training[stop_column][:50000].to_numpy()"
   ]
  },
  {
   "cell_type": "code",
   "execution_count": 10,
   "metadata": {
    "execution": {
     "iopub.execute_input": "2020-11-26T09:47:44.463701Z",
     "iopub.status.busy": "2020-11-26T09:47:44.462969Z",
     "iopub.status.idle": "2020-11-26T09:47:45.264490Z",
     "shell.execute_reply": "2020-11-26T09:47:45.265022Z"
    },
    "papermill": {
     "duration": 0.830582,
     "end_time": "2020-11-26T09:47:45.265182",
     "exception": false,
     "start_time": "2020-11-26T09:47:44.434600",
     "status": "completed"
    },
    "tags": []
   },
   "outputs": [],
   "source": [
    "#validation train split using stratified kfold.\n",
    "from sklearn.model_selection import train_test_split\n",
    "X_train,X_test,y_train,y_test = train_test_split(X,Y,test_size=0.3,shuffle=True,random_state= 42)\n"
   ]
  },
  {
   "cell_type": "code",
   "execution_count": 11,
   "metadata": {
    "execution": {
     "iopub.execute_input": "2020-11-26T09:47:45.332887Z",
     "iopub.status.busy": "2020-11-26T09:47:45.330944Z",
     "iopub.status.idle": "2020-11-26T09:47:45.333677Z",
     "shell.execute_reply": "2020-11-26T09:47:45.334163Z"
    },
    "papermill": {
     "duration": 0.044425,
     "end_time": "2020-11-26T09:47:45.334281",
     "exception": false,
     "start_time": "2020-11-26T09:47:45.289856",
     "status": "completed"
    },
    "tags": []
   },
   "outputs": [],
   "source": [
    "def convert_boardtomatrix(board):\n",
    "    matrix = np.zeros(shape=[board.shape[0], board.shape[1]])\n",
    "    for i in range(board.shape[0]):\n",
    "        for j in range(board.shape[1]):\n",
    "            # a represents the value of 8 neighbours\n",
    "            a = []\n",
    "            if i - 1 >= 0:\n",
    "                a.append(1 if board[i - 1][j] == 1 else 0)\n",
    "            if j - 1 >= 0:\n",
    "                a.append(1 if board[i][j - 1] == 1 else 0)\n",
    "            if i - 1 >= 0 and j - 1 >= 0:\n",
    "                a.append(1 if board[i - 1][j - 1] == 1 else 0)\n",
    "            if i + 1 < board.shape[0]:\n",
    "                a.append(1 if board[i + 1][j] == 1 else 0)\n",
    "            if j + 1 < board.shape[1]:\n",
    "                a.append(1 if board[i][j + 1] == 1 else 0)\n",
    "            if i + 1 < board.shape[0] and j + 1 < board.shape[1]:\n",
    "                a.append(1 if board[i + 1][j + 1] == 1 else 0)\n",
    "            if i - 1 >= 0 and j + 1 < board.shape[1]:\n",
    "                a.append(1 if board[i - 1][j + 1] == 1 else 0)\n",
    "            if i + 1 < board.shape[0] and j - 1 >= 0:\n",
    "                a.append(1 if board[i + 1][j - 1] == 1 else 0)\n",
    "\n",
    "            matrix[i][j] = np.sum(a)\n",
    "    return matrix"
   ]
  },
  {
   "cell_type": "code",
   "execution_count": 12,
   "metadata": {
    "execution": {
     "iopub.execute_input": "2020-11-26T09:47:45.423000Z",
     "iopub.status.busy": "2020-11-26T09:47:45.398944Z",
     "iopub.status.idle": "2020-11-26T10:00:28.438142Z",
     "shell.execute_reply": "2020-11-26T10:00:28.439277Z"
    },
    "papermill": {
     "duration": 763.080987,
     "end_time": "2020-11-26T10:00:28.439512",
     "exception": false,
     "start_time": "2020-11-26T09:47:45.358525",
     "status": "completed"
    },
    "tags": []
   },
   "outputs": [],
   "source": [
    "#broadtomatrix\n",
    "X_train = np.array([convert_boardtomatrix(tm.reshape([25,25]))for tm in X_train]).reshape([-1,25,25,1])\n",
    "X_test = np.array([convert_boardtomatrix(tm.reshape([25,25]))for tm in X_test]).reshape([-1,25,25,1])\n"
   ]
  },
  {
   "cell_type": "code",
   "execution_count": 13,
   "metadata": {
    "execution": {
     "iopub.execute_input": "2020-11-26T10:00:28.513614Z",
     "iopub.status.busy": "2020-11-26T10:00:28.512698Z",
     "iopub.status.idle": "2020-11-26T10:00:33.350731Z",
     "shell.execute_reply": "2020-11-26T10:00:33.351328Z"
    },
    "papermill": {
     "duration": 4.876755,
     "end_time": "2020-11-26T10:00:33.351474",
     "exception": false,
     "start_time": "2020-11-26T10:00:28.474719",
     "status": "completed"
    },
    "tags": []
   },
   "outputs": [],
   "source": [
    "import tensorflow as tf\n",
    "from tensorflow.keras.models import Sequential "
   ]
  },
  {
   "cell_type": "code",
   "execution_count": 14,
   "metadata": {
    "execution": {
     "iopub.execute_input": "2020-11-26T10:00:33.407672Z",
     "iopub.status.busy": "2020-11-26T10:00:33.406871Z",
     "iopub.status.idle": "2020-11-26T10:00:33.462405Z",
     "shell.execute_reply": "2020-11-26T10:00:33.461788Z"
    },
    "papermill": {
     "duration": 0.086171,
     "end_time": "2020-11-26T10:00:33.462520",
     "exception": false,
     "start_time": "2020-11-26T10:00:33.376349",
     "status": "completed"
    },
    "tags": []
   },
   "outputs": [],
   "source": [
    "from keras.layers.convolutional import Conv2D\n",
    "from keras.layers import Dense\n",
    "from keras.layers.convolutional import MaxPooling2D\n",
    "from keras.layers import Flatten\n",
    "from tensorflow.keras.layers import Dense, Dropout,Flatten\n",
    "from keras import regularizers\n",
    "from tensorflow.keras.layers import Dense, Dropout, Conv2D, MaxPool2D, Conv2DTranspose, BatchNormalization\n",
    "from tensorflow.keras.callbacks import EarlyStopping, ModelCheckpoint"
   ]
  },
  {
   "cell_type": "code",
   "execution_count": 15,
   "metadata": {
    "execution": {
     "iopub.execute_input": "2020-11-26T10:00:33.519466Z",
     "iopub.status.busy": "2020-11-26T10:00:33.518802Z",
     "iopub.status.idle": "2020-11-26T10:00:33.522936Z",
     "shell.execute_reply": "2020-11-26T10:00:33.523380Z"
    },
    "papermill": {
     "duration": 0.035041,
     "end_time": "2020-11-26T10:00:33.523506",
     "exception": false,
     "start_time": "2020-11-26T10:00:33.488465",
     "status": "completed"
    },
    "tags": []
   },
   "outputs": [],
   "source": [
    "import keras"
   ]
  },
  {
   "cell_type": "code",
   "execution_count": 16,
   "metadata": {
    "execution": {
     "iopub.execute_input": "2020-11-26T10:00:33.580590Z",
     "iopub.status.busy": "2020-11-26T10:00:33.578744Z",
     "iopub.status.idle": "2020-11-26T10:00:33.581275Z",
     "shell.execute_reply": "2020-11-26T10:00:33.581788Z"
    },
    "papermill": {
     "duration": 0.032456,
     "end_time": "2020-11-26T10:00:33.581906",
     "exception": false,
     "start_time": "2020-11-26T10:00:33.549450",
     "status": "completed"
    },
    "tags": []
   },
   "outputs": [],
   "source": [
    "img_height_rows = 25\n",
    "img_width_cols = 25"
   ]
  },
  {
   "cell_type": "code",
   "execution_count": 17,
   "metadata": {
    "execution": {
     "iopub.execute_input": "2020-11-26T10:00:33.639747Z",
     "iopub.status.busy": "2020-11-26T10:00:33.637831Z",
     "iopub.status.idle": "2020-11-26T10:00:33.640563Z",
     "shell.execute_reply": "2020-11-26T10:00:33.641050Z"
    },
    "papermill": {
     "duration": 0.033942,
     "end_time": "2020-11-26T10:00:33.641167",
     "exception": false,
     "start_time": "2020-11-26T10:00:33.607225",
     "status": "completed"
    },
    "tags": []
   },
   "outputs": [],
   "source": [
    "im_shape = (img_height_rows,img_width_cols,1)"
   ]
  },
  {
   "cell_type": "code",
   "execution_count": 18,
   "metadata": {
    "execution": {
     "iopub.execute_input": "2020-11-26T10:00:33.698084Z",
     "iopub.status.busy": "2020-11-26T10:00:33.697129Z",
     "iopub.status.idle": "2020-11-26T10:00:33.699827Z",
     "shell.execute_reply": "2020-11-26T10:00:33.700464Z"
    },
    "papermill": {
     "duration": 0.033128,
     "end_time": "2020-11-26T10:00:33.700604",
     "exception": false,
     "start_time": "2020-11-26T10:00:33.667476",
     "status": "completed"
    },
    "tags": []
   },
   "outputs": [],
   "source": [
    "from tensorflow.keras import models, layers, losses"
   ]
  },
  {
   "cell_type": "code",
   "execution_count": 19,
   "metadata": {
    "execution": {
     "iopub.execute_input": "2020-11-26T10:00:33.759771Z",
     "iopub.status.busy": "2020-11-26T10:00:33.758965Z",
     "iopub.status.idle": "2020-11-26T10:00:33.762262Z",
     "shell.execute_reply": "2020-11-26T10:00:33.762793Z"
    },
    "papermill": {
     "duration": 0.036597,
     "end_time": "2020-11-26T10:00:33.762907",
     "exception": false,
     "start_time": "2020-11-26T10:00:33.726310",
     "status": "completed"
    },
    "tags": []
   },
   "outputs": [],
   "source": [
    "def Model_CNN():\n",
    "    model = models.Sequential()\n",
    "    model.add(layers.Conv2D(64, (1, 1), activation='relu', input_shape=(25, 25, 1)))\n",
    "    model.add(layers.MaxPooling2D((2, 2)))\n",
    "\n",
    "    model.add(layers.Conv2D(64, (3, 3), activation='relu'))\n",
    "    model.add(layers.Flatten())\n",
    "    model.add(layers.Dense(625, activation='sigmoid'))\n",
    "    model.add(Dropout(0.2))\n",
    "    model.compile(optimizer='SGD',loss='MSE',metrics=['accuracy'])\n",
    "    return model"
   ]
  },
  {
   "cell_type": "code",
   "execution_count": 20,
   "metadata": {
    "execution": {
     "iopub.execute_input": "2020-11-26T10:00:33.817182Z",
     "iopub.status.busy": "2020-11-26T10:00:33.816538Z",
     "iopub.status.idle": "2020-11-26T10:00:36.544509Z",
     "shell.execute_reply": "2020-11-26T10:00:36.545094Z"
    },
    "papermill": {
     "duration": 2.756816,
     "end_time": "2020-11-26T10:00:36.545275",
     "exception": false,
     "start_time": "2020-11-26T10:00:33.788459",
     "status": "completed"
    },
    "tags": []
   },
   "outputs": [
    {
     "name": "stdout",
     "output_type": "stream",
     "text": [
      "Model: \"sequential\"\n",
      "_________________________________________________________________\n",
      "Layer (type)                 Output Shape              Param #   \n",
      "=================================================================\n",
      "conv2d (Conv2D)              (None, 25, 25, 64)        128       \n",
      "_________________________________________________________________\n",
      "max_pooling2d (MaxPooling2D) (None, 12, 12, 64)        0         \n",
      "_________________________________________________________________\n",
      "conv2d_1 (Conv2D)            (None, 10, 10, 64)        36928     \n",
      "_________________________________________________________________\n",
      "flatten (Flatten)            (None, 6400)              0         \n",
      "_________________________________________________________________\n",
      "dense (Dense)                (None, 625)               4000625   \n",
      "_________________________________________________________________\n",
      "dropout (Dropout)            (None, 625)               0         \n",
      "=================================================================\n",
      "Total params: 4,037,681\n",
      "Trainable params: 4,037,681\n",
      "Non-trainable params: 0\n",
      "_________________________________________________________________\n"
     ]
    }
   ],
   "source": [
    "model = Model_CNN()\n",
    "model.summary()"
   ]
  },
  {
   "cell_type": "code",
   "execution_count": 21,
   "metadata": {
    "execution": {
     "iopub.execute_input": "2020-11-26T10:00:36.603078Z",
     "iopub.status.busy": "2020-11-26T10:00:36.601858Z",
     "iopub.status.idle": "2020-11-26T10:00:36.604582Z",
     "shell.execute_reply": "2020-11-26T10:00:36.605086Z"
    },
    "papermill": {
     "duration": 0.03367,
     "end_time": "2020-11-26T10:00:36.605231",
     "exception": false,
     "start_time": "2020-11-26T10:00:36.571561",
     "status": "completed"
    },
    "tags": []
   },
   "outputs": [],
   "source": [
    "from keras.callbacks import ModelCheckpoint, EarlyStopping\n",
    "es = EarlyStopping(monitor='val_loss',patience=50)"
   ]
  },
  {
   "cell_type": "code",
   "execution_count": 22,
   "metadata": {
    "execution": {
     "iopub.execute_input": "2020-11-26T10:00:36.664508Z",
     "iopub.status.busy": "2020-11-26T10:00:36.663827Z",
     "iopub.status.idle": "2020-11-26T10:11:35.438824Z",
     "shell.execute_reply": "2020-11-26T10:11:35.438026Z"
    },
    "papermill": {
     "duration": 658.80642,
     "end_time": "2020-11-26T10:11:35.438943",
     "exception": false,
     "start_time": "2020-11-26T10:00:36.632523",
     "status": "completed"
    },
    "tags": []
   },
   "outputs": [
    {
     "name": "stdout",
     "output_type": "stream",
     "text": [
      "Epoch 1/200\n",
      "821/821 [==============================] - 3s 4ms/step - loss: 0.2508 - accuracy: 0.0011 - val_loss: 0.1690 - val_accuracy: 0.0014\n",
      "Epoch 2/200\n",
      "821/821 [==============================] - 3s 4ms/step - loss: 0.1709 - accuracy: 0.0019 - val_loss: 0.1549 - val_accuracy: 0.0018\n",
      "Epoch 3/200\n",
      "821/821 [==============================] - 4s 4ms/step - loss: 0.1551 - accuracy: 0.0018 - val_loss: 0.1495 - val_accuracy: 0.0018\n",
      "Epoch 4/200\n",
      "821/821 [==============================] - 3s 4ms/step - loss: 0.1495 - accuracy: 0.0017 - val_loss: 0.1476 - val_accuracy: 0.0022\n",
      "Epoch 5/200\n",
      "821/821 [==============================] - 3s 4ms/step - loss: 0.1474 - accuracy: 0.0020 - val_loss: 0.1469 - val_accuracy: 0.0023\n",
      "Epoch 6/200\n",
      "821/821 [==============================] - 3s 4ms/step - loss: 0.1466 - accuracy: 0.0020 - val_loss: 0.1465 - val_accuracy: 0.0022\n",
      "Epoch 7/200\n",
      "821/821 [==============================] - 4s 4ms/step - loss: 0.1461 - accuracy: 0.0020 - val_loss: 0.1463 - val_accuracy: 0.0024\n",
      "Epoch 8/200\n",
      "821/821 [==============================] - 3s 4ms/step - loss: 0.1458 - accuracy: 0.0019 - val_loss: 0.1461 - val_accuracy: 0.0025\n",
      "Epoch 9/200\n",
      "821/821 [==============================] - 3s 4ms/step - loss: 0.1456 - accuracy: 0.0019 - val_loss: 0.1460 - val_accuracy: 0.0024\n",
      "Epoch 10/200\n",
      "821/821 [==============================] - 3s 4ms/step - loss: 0.1454 - accuracy: 0.0020 - val_loss: 0.1458 - val_accuracy: 0.0027\n",
      "Epoch 11/200\n",
      "821/821 [==============================] - 3s 4ms/step - loss: 0.1452 - accuracy: 0.0014 - val_loss: 0.1456 - val_accuracy: 0.0027\n",
      "Epoch 12/200\n",
      "821/821 [==============================] - 3s 4ms/step - loss: 0.1450 - accuracy: 0.0015 - val_loss: 0.1452 - val_accuracy: 0.0023\n",
      "Epoch 13/200\n",
      "821/821 [==============================] - 3s 4ms/step - loss: 0.1445 - accuracy: 0.0015 - val_loss: 0.1445 - val_accuracy: 0.0018\n",
      "Epoch 14/200\n",
      "821/821 [==============================] - 3s 4ms/step - loss: 0.1437 - accuracy: 0.0016 - val_loss: 0.1430 - val_accuracy: 0.0022\n",
      "Epoch 15/200\n",
      "821/821 [==============================] - 3s 4ms/step - loss: 0.1414 - accuracy: 0.0012 - val_loss: 0.1384 - val_accuracy: 0.0016\n",
      "Epoch 16/200\n",
      "821/821 [==============================] - 3s 4ms/step - loss: 0.1361 - accuracy: 0.0016 - val_loss: 0.1306 - val_accuracy: 0.0021\n",
      "Epoch 17/200\n",
      "821/821 [==============================] - 3s 4ms/step - loss: 0.1314 - accuracy: 0.0018 - val_loss: 0.1262 - val_accuracy: 0.0023\n",
      "Epoch 18/200\n",
      "821/821 [==============================] - 3s 4ms/step - loss: 0.1284 - accuracy: 0.0018 - val_loss: 0.1238 - val_accuracy: 6.8571e-04\n",
      "Epoch 19/200\n",
      "821/821 [==============================] - 3s 4ms/step - loss: 0.1267 - accuracy: 0.0013 - val_loss: 0.1223 - val_accuracy: 0.0011\n",
      "Epoch 20/200\n",
      "821/821 [==============================] - 3s 4ms/step - loss: 0.1256 - accuracy: 0.0013 - val_loss: 0.1215 - val_accuracy: 0.0011\n",
      "Epoch 21/200\n",
      "821/821 [==============================] - 4s 4ms/step - loss: 0.1250 - accuracy: 0.0014 - val_loss: 0.1210 - val_accuracy: 0.0013\n",
      "Epoch 22/200\n",
      "821/821 [==============================] - 3s 4ms/step - loss: 0.1247 - accuracy: 0.0013 - val_loss: 0.1208 - val_accuracy: 0.0011\n",
      "Epoch 23/200\n",
      "821/821 [==============================] - 3s 4ms/step - loss: 0.1244 - accuracy: 0.0011 - val_loss: 0.1206 - val_accuracy: 0.0011\n",
      "Epoch 24/200\n",
      "821/821 [==============================] - 4s 4ms/step - loss: 0.1243 - accuracy: 0.0011 - val_loss: 0.1205 - val_accuracy: 0.0013\n",
      "Epoch 25/200\n",
      "821/821 [==============================] - 3s 4ms/step - loss: 0.1242 - accuracy: 0.0014 - val_loss: 0.1205 - val_accuracy: 0.0010\n",
      "Epoch 26/200\n",
      "821/821 [==============================] - 3s 4ms/step - loss: 0.1242 - accuracy: 9.9048e-04 - val_loss: 0.1204 - val_accuracy: 0.0011\n",
      "Epoch 27/200\n",
      "821/821 [==============================] - 4s 4ms/step - loss: 0.1241 - accuracy: 0.0013 - val_loss: 0.1203 - val_accuracy: 0.0011\n",
      "Epoch 28/200\n",
      "821/821 [==============================] - 4s 4ms/step - loss: 0.1241 - accuracy: 9.9048e-04 - val_loss: 0.1203 - val_accuracy: 0.0011\n",
      "Epoch 29/200\n",
      "821/821 [==============================] - 3s 4ms/step - loss: 0.1240 - accuracy: 0.0012 - val_loss: 0.1203 - val_accuracy: 0.0010\n",
      "Epoch 30/200\n",
      "821/821 [==============================] - 3s 4ms/step - loss: 0.1240 - accuracy: 0.0011 - val_loss: 0.1202 - val_accuracy: 0.0010\n",
      "Epoch 31/200\n",
      "821/821 [==============================] - 3s 4ms/step - loss: 0.1240 - accuracy: 0.0014 - val_loss: 0.1203 - val_accuracy: 0.0011\n",
      "Epoch 32/200\n",
      "821/821 [==============================] - 3s 4ms/step - loss: 0.1240 - accuracy: 0.0012 - val_loss: 0.1202 - val_accuracy: 0.0013\n",
      "Epoch 33/200\n",
      "821/821 [==============================] - 3s 4ms/step - loss: 0.1239 - accuracy: 0.0013 - val_loss: 0.1202 - val_accuracy: 0.0011\n",
      "Epoch 34/200\n",
      "821/821 [==============================] - 3s 4ms/step - loss: 0.1239 - accuracy: 0.0011 - val_loss: 0.1201 - val_accuracy: 0.0011\n",
      "Epoch 35/200\n",
      "821/821 [==============================] - 3s 4ms/step - loss: 0.1239 - accuracy: 0.0014 - val_loss: 0.1201 - val_accuracy: 0.0013\n",
      "Epoch 36/200\n",
      "821/821 [==============================] - 3s 4ms/step - loss: 0.1238 - accuracy: 0.0013 - val_loss: 0.1201 - val_accuracy: 0.0014\n",
      "Epoch 37/200\n",
      "821/821 [==============================] - 3s 4ms/step - loss: 0.1238 - accuracy: 0.0011 - val_loss: 0.1201 - val_accuracy: 0.0014\n",
      "Epoch 38/200\n",
      "821/821 [==============================] - 4s 5ms/step - loss: 0.1238 - accuracy: 0.0010 - val_loss: 0.1200 - val_accuracy: 0.0014\n",
      "Epoch 39/200\n",
      "821/821 [==============================] - 3s 4ms/step - loss: 0.1238 - accuracy: 0.0013 - val_loss: 0.1200 - val_accuracy: 0.0014\n",
      "Epoch 40/200\n",
      "821/821 [==============================] - 3s 4ms/step - loss: 0.1237 - accuracy: 0.0015 - val_loss: 0.1199 - val_accuracy: 0.0015\n",
      "Epoch 41/200\n",
      "821/821 [==============================] - 4s 4ms/step - loss: 0.1237 - accuracy: 0.0014 - val_loss: 0.1200 - val_accuracy: 0.0014\n",
      "Epoch 42/200\n",
      "821/821 [==============================] - 3s 4ms/step - loss: 0.1237 - accuracy: 0.0013 - val_loss: 0.1199 - val_accuracy: 0.0015\n",
      "Epoch 43/200\n",
      "821/821 [==============================] - 3s 4ms/step - loss: 0.1236 - accuracy: 0.0017 - val_loss: 0.1199 - val_accuracy: 0.0015\n",
      "Epoch 44/200\n",
      "821/821 [==============================] - 3s 4ms/step - loss: 0.1237 - accuracy: 0.0014 - val_loss: 0.1199 - val_accuracy: 0.0016\n",
      "Epoch 45/200\n",
      "821/821 [==============================] - 3s 4ms/step - loss: 0.1236 - accuracy: 0.0016 - val_loss: 0.1198 - val_accuracy: 0.0016\n",
      "Epoch 46/200\n",
      "821/821 [==============================] - 3s 4ms/step - loss: 0.1236 - accuracy: 0.0015 - val_loss: 0.1198 - val_accuracy: 0.0016\n",
      "Epoch 47/200\n",
      "821/821 [==============================] - 3s 4ms/step - loss: 0.1236 - accuracy: 0.0016 - val_loss: 0.1198 - val_accuracy: 0.0015\n",
      "Epoch 48/200\n",
      "821/821 [==============================] - 4s 5ms/step - loss: 0.1236 - accuracy: 0.0016 - val_loss: 0.1197 - val_accuracy: 0.0017\n",
      "Epoch 49/200\n",
      "821/821 [==============================] - 3s 4ms/step - loss: 0.1235 - accuracy: 0.0016 - val_loss: 0.1197 - val_accuracy: 0.0014\n",
      "Epoch 50/200\n",
      "821/821 [==============================] - 3s 4ms/step - loss: 0.1235 - accuracy: 0.0016 - val_loss: 0.1197 - val_accuracy: 0.0015\n",
      "Epoch 51/200\n",
      "821/821 [==============================] - 3s 4ms/step - loss: 0.1235 - accuracy: 0.0018 - val_loss: 0.1197 - val_accuracy: 0.0016\n",
      "Epoch 52/200\n",
      "821/821 [==============================] - 3s 4ms/step - loss: 0.1235 - accuracy: 0.0017 - val_loss: 0.1197 - val_accuracy: 0.0017\n",
      "Epoch 53/200\n",
      "821/821 [==============================] - 3s 4ms/step - loss: 0.1235 - accuracy: 0.0015 - val_loss: 0.1196 - val_accuracy: 0.0017\n",
      "Epoch 54/200\n",
      "821/821 [==============================] - 3s 4ms/step - loss: 0.1234 - accuracy: 0.0018 - val_loss: 0.1196 - val_accuracy: 0.0017\n",
      "Epoch 55/200\n",
      "821/821 [==============================] - 3s 4ms/step - loss: 0.1234 - accuracy: 0.0018 - val_loss: 0.1196 - val_accuracy: 0.0016\n",
      "Epoch 56/200\n",
      "821/821 [==============================] - 3s 4ms/step - loss: 0.1234 - accuracy: 0.0017 - val_loss: 0.1196 - val_accuracy: 0.0018\n",
      "Epoch 57/200\n",
      "821/821 [==============================] - 3s 4ms/step - loss: 0.1234 - accuracy: 0.0019 - val_loss: 0.1196 - val_accuracy: 0.0018\n",
      "Epoch 58/200\n",
      "821/821 [==============================] - 4s 5ms/step - loss: 0.1234 - accuracy: 0.0020 - val_loss: 0.1195 - val_accuracy: 0.0018\n",
      "Epoch 59/200\n",
      "821/821 [==============================] - 3s 4ms/step - loss: 0.1233 - accuracy: 0.0018 - val_loss: 0.1195 - val_accuracy: 0.0019\n",
      "Epoch 60/200\n",
      "821/821 [==============================] - 3s 4ms/step - loss: 0.1233 - accuracy: 0.0019 - val_loss: 0.1195 - val_accuracy: 0.0024\n",
      "Epoch 61/200\n",
      "821/821 [==============================] - 3s 4ms/step - loss: 0.1233 - accuracy: 0.0022 - val_loss: 0.1194 - val_accuracy: 0.0024\n",
      "Epoch 62/200\n",
      "821/821 [==============================] - 3s 4ms/step - loss: 0.1233 - accuracy: 0.0022 - val_loss: 0.1194 - val_accuracy: 0.0024\n",
      "Epoch 63/200\n",
      "821/821 [==============================] - 3s 4ms/step - loss: 0.1233 - accuracy: 0.0023 - val_loss: 0.1194 - val_accuracy: 0.0021\n",
      "Epoch 64/200\n",
      "821/821 [==============================] - 3s 4ms/step - loss: 0.1233 - accuracy: 0.0021 - val_loss: 0.1194 - val_accuracy: 0.0022\n",
      "Epoch 65/200\n",
      "821/821 [==============================] - 3s 4ms/step - loss: 0.1232 - accuracy: 0.0021 - val_loss: 0.1194 - val_accuracy: 0.0021\n",
      "Epoch 66/200\n",
      "821/821 [==============================] - 3s 4ms/step - loss: 0.1232 - accuracy: 0.0022 - val_loss: 0.1193 - val_accuracy: 0.0023\n",
      "Epoch 67/200\n",
      "821/821 [==============================] - 3s 4ms/step - loss: 0.1232 - accuracy: 0.0021 - val_loss: 0.1193 - val_accuracy: 0.0024\n",
      "Epoch 68/200\n",
      "821/821 [==============================] - 4s 5ms/step - loss: 0.1232 - accuracy: 0.0023 - val_loss: 0.1193 - val_accuracy: 0.0023\n",
      "Epoch 69/200\n",
      "821/821 [==============================] - 3s 4ms/step - loss: 0.1232 - accuracy: 0.0018 - val_loss: 0.1193 - val_accuracy: 0.0024\n",
      "Epoch 70/200\n",
      "821/821 [==============================] - 3s 4ms/step - loss: 0.1232 - accuracy: 0.0019 - val_loss: 0.1192 - val_accuracy: 0.0023\n",
      "Epoch 71/200\n",
      "821/821 [==============================] - 3s 4ms/step - loss: 0.1231 - accuracy: 0.0020 - val_loss: 0.1192 - val_accuracy: 0.0022\n",
      "Epoch 72/200\n",
      "821/821 [==============================] - 3s 4ms/step - loss: 0.1231 - accuracy: 0.0022 - val_loss: 0.1192 - val_accuracy: 0.0022\n",
      "Epoch 73/200\n",
      "821/821 [==============================] - 3s 4ms/step - loss: 0.1231 - accuracy: 0.0023 - val_loss: 0.1192 - val_accuracy: 0.0023\n",
      "Epoch 74/200\n",
      "821/821 [==============================] - 3s 4ms/step - loss: 0.1231 - accuracy: 0.0022 - val_loss: 0.1192 - val_accuracy: 0.0022\n",
      "Epoch 75/200\n",
      "821/821 [==============================] - 3s 4ms/step - loss: 0.1230 - accuracy: 0.0025 - val_loss: 0.1192 - val_accuracy: 0.0026\n",
      "Epoch 76/200\n",
      "821/821 [==============================] - 3s 4ms/step - loss: 0.1230 - accuracy: 0.0024 - val_loss: 0.1191 - val_accuracy: 0.0023\n",
      "Epoch 77/200\n",
      "821/821 [==============================] - 4s 5ms/step - loss: 0.1230 - accuracy: 0.0025 - val_loss: 0.1191 - val_accuracy: 0.0023\n",
      "Epoch 78/200\n",
      "821/821 [==============================] - 4s 5ms/step - loss: 0.1230 - accuracy: 0.0026 - val_loss: 0.1191 - val_accuracy: 0.0022\n",
      "Epoch 79/200\n",
      "821/821 [==============================] - 3s 4ms/step - loss: 0.1230 - accuracy: 0.0023 - val_loss: 0.1191 - val_accuracy: 0.0019\n",
      "Epoch 80/200\n",
      "821/821 [==============================] - 3s 4ms/step - loss: 0.1230 - accuracy: 0.0021 - val_loss: 0.1190 - val_accuracy: 0.0017\n",
      "Epoch 81/200\n",
      "821/821 [==============================] - 3s 4ms/step - loss: 0.1230 - accuracy: 0.0024 - val_loss: 0.1190 - val_accuracy: 0.0018\n",
      "Epoch 82/200\n",
      "821/821 [==============================] - 3s 4ms/step - loss: 0.1229 - accuracy: 0.0026 - val_loss: 0.1190 - val_accuracy: 0.0018\n",
      "Epoch 83/200\n",
      "821/821 [==============================] - 3s 4ms/step - loss: 0.1229 - accuracy: 0.0025 - val_loss: 0.1190 - val_accuracy: 0.0016\n",
      "Epoch 84/200\n",
      "821/821 [==============================] - 3s 4ms/step - loss: 0.1229 - accuracy: 0.0023 - val_loss: 0.1189 - val_accuracy: 0.0022\n",
      "Epoch 85/200\n",
      "821/821 [==============================] - 3s 4ms/step - loss: 0.1229 - accuracy: 0.0028 - val_loss: 0.1189 - val_accuracy: 0.0018\n",
      "Epoch 86/200\n",
      "821/821 [==============================] - 3s 4ms/step - loss: 0.1228 - accuracy: 0.0028 - val_loss: 0.1190 - val_accuracy: 0.0017\n",
      "Epoch 87/200\n",
      "821/821 [==============================] - 4s 4ms/step - loss: 0.1228 - accuracy: 0.0025 - val_loss: 0.1189 - val_accuracy: 0.0017\n",
      "Epoch 88/200\n",
      "821/821 [==============================] - 4s 5ms/step - loss: 0.1229 - accuracy: 0.0028 - val_loss: 0.1189 - val_accuracy: 0.0018\n",
      "Epoch 89/200\n",
      "821/821 [==============================] - 3s 4ms/step - loss: 0.1228 - accuracy: 0.0028 - val_loss: 0.1189 - val_accuracy: 0.0021\n",
      "Epoch 90/200\n",
      "821/821 [==============================] - 3s 4ms/step - loss: 0.1228 - accuracy: 0.0026 - val_loss: 0.1189 - val_accuracy: 0.0021\n",
      "Epoch 91/200\n",
      "821/821 [==============================] - 3s 4ms/step - loss: 0.1228 - accuracy: 0.0031 - val_loss: 0.1188 - val_accuracy: 0.0023\n",
      "Epoch 92/200\n",
      "821/821 [==============================] - 3s 4ms/step - loss: 0.1228 - accuracy: 0.0030 - val_loss: 0.1188 - val_accuracy: 0.0023\n",
      "Epoch 93/200\n",
      "821/821 [==============================] - 3s 4ms/step - loss: 0.1228 - accuracy: 0.0030 - val_loss: 0.1188 - val_accuracy: 0.0024\n",
      "Epoch 94/200\n",
      "821/821 [==============================] - 3s 4ms/step - loss: 0.1227 - accuracy: 0.0029 - val_loss: 0.1188 - val_accuracy: 0.0024\n",
      "Epoch 95/200\n",
      "821/821 [==============================] - 4s 5ms/step - loss: 0.1227 - accuracy: 0.0030 - val_loss: 0.1188 - val_accuracy: 0.0023\n",
      "Epoch 96/200\n",
      "821/821 [==============================] - 3s 4ms/step - loss: 0.1227 - accuracy: 0.0029 - val_loss: 0.1187 - val_accuracy: 0.0022\n",
      "Epoch 97/200\n",
      "821/821 [==============================] - 4s 5ms/step - loss: 0.1227 - accuracy: 0.0033 - val_loss: 0.1187 - val_accuracy: 0.0025\n",
      "Epoch 98/200\n",
      "821/821 [==============================] - 3s 4ms/step - loss: 0.1227 - accuracy: 0.0033 - val_loss: 0.1187 - val_accuracy: 0.0026\n",
      "Epoch 99/200\n",
      "821/821 [==============================] - 3s 4ms/step - loss: 0.1227 - accuracy: 0.0031 - val_loss: 0.1187 - val_accuracy: 0.0027\n",
      "Epoch 100/200\n",
      "821/821 [==============================] - 3s 4ms/step - loss: 0.1226 - accuracy: 0.0035 - val_loss: 0.1187 - val_accuracy: 0.0026\n",
      "Epoch 101/200\n",
      "821/821 [==============================] - 3s 4ms/step - loss: 0.1226 - accuracy: 0.0037 - val_loss: 0.1187 - val_accuracy: 0.0027\n",
      "Epoch 102/200\n",
      "821/821 [==============================] - 3s 4ms/step - loss: 0.1226 - accuracy: 0.0035 - val_loss: 0.1186 - val_accuracy: 0.0027\n",
      "Epoch 103/200\n",
      "821/821 [==============================] - 3s 4ms/step - loss: 0.1226 - accuracy: 0.0034 - val_loss: 0.1186 - val_accuracy: 0.0029\n",
      "Epoch 104/200\n",
      "821/821 [==============================] - 3s 4ms/step - loss: 0.1226 - accuracy: 0.0033 - val_loss: 0.1186 - val_accuracy: 0.0025\n",
      "Epoch 105/200\n",
      "821/821 [==============================] - 3s 4ms/step - loss: 0.1226 - accuracy: 0.0035 - val_loss: 0.1186 - val_accuracy: 0.0026\n",
      "Epoch 106/200\n",
      "821/821 [==============================] - 3s 4ms/step - loss: 0.1225 - accuracy: 0.0037 - val_loss: 0.1186 - val_accuracy: 0.0029\n",
      "Epoch 107/200\n",
      "821/821 [==============================] - 3s 4ms/step - loss: 0.1225 - accuracy: 0.0035 - val_loss: 0.1185 - val_accuracy: 0.0030\n",
      "Epoch 108/200\n",
      "821/821 [==============================] - 4s 5ms/step - loss: 0.1225 - accuracy: 0.0042 - val_loss: 0.1185 - val_accuracy: 0.0027\n",
      "Epoch 109/200\n",
      "821/821 [==============================] - 3s 4ms/step - loss: 0.1225 - accuracy: 0.0042 - val_loss: 0.1185 - val_accuracy: 0.0029\n",
      "Epoch 110/200\n",
      "821/821 [==============================] - 3s 4ms/step - loss: 0.1225 - accuracy: 0.0035 - val_loss: 0.1185 - val_accuracy: 0.0029\n",
      "Epoch 111/200\n",
      "821/821 [==============================] - 3s 4ms/step - loss: 0.1225 - accuracy: 0.0044 - val_loss: 0.1185 - val_accuracy: 0.0029\n",
      "Epoch 112/200\n",
      "821/821 [==============================] - 3s 4ms/step - loss: 0.1224 - accuracy: 0.0038 - val_loss: 0.1185 - val_accuracy: 0.0030\n",
      "Epoch 113/200\n",
      "821/821 [==============================] - 3s 4ms/step - loss: 0.1224 - accuracy: 0.0037 - val_loss: 0.1184 - val_accuracy: 0.0029\n",
      "Epoch 114/200\n",
      "821/821 [==============================] - 3s 4ms/step - loss: 0.1224 - accuracy: 0.0037 - val_loss: 0.1185 - val_accuracy: 0.0029\n",
      "Epoch 115/200\n",
      "821/821 [==============================] - 4s 4ms/step - loss: 0.1224 - accuracy: 0.0040 - val_loss: 0.1184 - val_accuracy: 0.0030\n",
      "Epoch 116/200\n",
      "821/821 [==============================] - 3s 4ms/step - loss: 0.1224 - accuracy: 0.0037 - val_loss: 0.1184 - val_accuracy: 0.0033\n",
      "Epoch 117/200\n",
      "821/821 [==============================] - 3s 4ms/step - loss: 0.1224 - accuracy: 0.0038 - val_loss: 0.1184 - val_accuracy: 0.0033\n",
      "Epoch 118/200\n",
      "821/821 [==============================] - 4s 5ms/step - loss: 0.1223 - accuracy: 0.0035 - val_loss: 0.1183 - val_accuracy: 0.0031\n",
      "Epoch 119/200\n",
      "821/821 [==============================] - 3s 4ms/step - loss: 0.1223 - accuracy: 0.0038 - val_loss: 0.1183 - val_accuracy: 0.0032\n",
      "Epoch 120/200\n",
      "821/821 [==============================] - 3s 4ms/step - loss: 0.1223 - accuracy: 0.0039 - val_loss: 0.1183 - val_accuracy: 0.0032\n",
      "Epoch 121/200\n",
      "821/821 [==============================] - 3s 4ms/step - loss: 0.1223 - accuracy: 0.0036 - val_loss: 0.1183 - val_accuracy: 0.0034\n",
      "Epoch 122/200\n",
      "821/821 [==============================] - 3s 4ms/step - loss: 0.1223 - accuracy: 0.0041 - val_loss: 0.1183 - val_accuracy: 0.0034\n",
      "Epoch 123/200\n",
      "821/821 [==============================] - 3s 4ms/step - loss: 0.1223 - accuracy: 0.0035 - val_loss: 0.1183 - val_accuracy: 0.0033\n",
      "Epoch 124/200\n",
      "821/821 [==============================] - 3s 4ms/step - loss: 0.1223 - accuracy: 0.0036 - val_loss: 0.1183 - val_accuracy: 0.0033\n",
      "Epoch 125/200\n",
      "821/821 [==============================] - 3s 4ms/step - loss: 0.1222 - accuracy: 0.0033 - val_loss: 0.1182 - val_accuracy: 0.0034\n",
      "Epoch 126/200\n",
      "821/821 [==============================] - 3s 4ms/step - loss: 0.1222 - accuracy: 0.0035 - val_loss: 0.1182 - val_accuracy: 0.0035\n",
      "Epoch 127/200\n",
      "821/821 [==============================] - 3s 4ms/step - loss: 0.1222 - accuracy: 0.0040 - val_loss: 0.1182 - val_accuracy: 0.0033\n",
      "Epoch 128/200\n",
      "821/821 [==============================] - 3s 4ms/step - loss: 0.1222 - accuracy: 0.0038 - val_loss: 0.1182 - val_accuracy: 0.0035\n",
      "Epoch 129/200\n",
      "821/821 [==============================] - 4s 5ms/step - loss: 0.1222 - accuracy: 0.0037 - val_loss: 0.1181 - val_accuracy: 0.0033\n",
      "Epoch 130/200\n",
      "821/821 [==============================] - 3s 4ms/step - loss: 0.1222 - accuracy: 0.0041 - val_loss: 0.1182 - val_accuracy: 0.0031\n",
      "Epoch 131/200\n",
      "821/821 [==============================] - 3s 4ms/step - loss: 0.1222 - accuracy: 0.0039 - val_loss: 0.1181 - val_accuracy: 0.0031\n",
      "Epoch 132/200\n",
      "821/821 [==============================] - 4s 4ms/step - loss: 0.1221 - accuracy: 0.0038 - val_loss: 0.1181 - val_accuracy: 0.0030\n",
      "Epoch 133/200\n",
      "821/821 [==============================] - 3s 4ms/step - loss: 0.1221 - accuracy: 0.0037 - val_loss: 0.1181 - val_accuracy: 0.0030\n",
      "Epoch 134/200\n",
      "821/821 [==============================] - 3s 4ms/step - loss: 0.1221 - accuracy: 0.0036 - val_loss: 0.1181 - val_accuracy: 0.0029\n",
      "Epoch 135/200\n",
      "821/821 [==============================] - 3s 4ms/step - loss: 0.1221 - accuracy: 0.0034 - val_loss: 0.1181 - val_accuracy: 0.0034\n",
      "Epoch 136/200\n",
      "821/821 [==============================] - 3s 4ms/step - loss: 0.1221 - accuracy: 0.0039 - val_loss: 0.1181 - val_accuracy: 0.0033\n",
      "Epoch 137/200\n",
      "821/821 [==============================] - 3s 4ms/step - loss: 0.1221 - accuracy: 0.0039 - val_loss: 0.1180 - val_accuracy: 0.0033\n",
      "Epoch 138/200\n",
      "821/821 [==============================] - 3s 4ms/step - loss: 0.1221 - accuracy: 0.0035 - val_loss: 0.1180 - val_accuracy: 0.0034\n",
      "Epoch 139/200\n",
      "821/821 [==============================] - 4s 5ms/step - loss: 0.1221 - accuracy: 0.0035 - val_loss: 0.1180 - val_accuracy: 0.0033\n",
      "Epoch 140/200\n",
      "821/821 [==============================] - 3s 4ms/step - loss: 0.1220 - accuracy: 0.0042 - val_loss: 0.1180 - val_accuracy: 0.0033\n",
      "Epoch 141/200\n",
      "821/821 [==============================] - 3s 4ms/step - loss: 0.1220 - accuracy: 0.0041 - val_loss: 0.1179 - val_accuracy: 0.0033\n",
      "Epoch 142/200\n",
      "821/821 [==============================] - 3s 4ms/step - loss: 0.1220 - accuracy: 0.0039 - val_loss: 0.1179 - val_accuracy: 0.0033\n",
      "Epoch 143/200\n",
      "821/821 [==============================] - 3s 4ms/step - loss: 0.1220 - accuracy: 0.0038 - val_loss: 0.1179 - val_accuracy: 0.0034\n",
      "Epoch 144/200\n",
      "821/821 [==============================] - 3s 4ms/step - loss: 0.1219 - accuracy: 0.0040 - val_loss: 0.1179 - val_accuracy: 0.0034\n",
      "Epoch 145/200\n",
      "821/821 [==============================] - 3s 4ms/step - loss: 0.1219 - accuracy: 0.0040 - val_loss: 0.1179 - val_accuracy: 0.0031\n",
      "Epoch 146/200\n",
      "821/821 [==============================] - 3s 4ms/step - loss: 0.1219 - accuracy: 0.0043 - val_loss: 0.1179 - val_accuracy: 0.0034\n",
      "Epoch 147/200\n",
      "821/821 [==============================] - 3s 4ms/step - loss: 0.1219 - accuracy: 0.0037 - val_loss: 0.1179 - val_accuracy: 0.0035\n",
      "Epoch 148/200\n",
      "821/821 [==============================] - 3s 4ms/step - loss: 0.1219 - accuracy: 0.0038 - val_loss: 0.1178 - val_accuracy: 0.0035\n",
      "Epoch 149/200\n",
      "821/821 [==============================] - 3s 4ms/step - loss: 0.1218 - accuracy: 0.0037 - val_loss: 0.1178 - val_accuracy: 0.0032\n",
      "Epoch 150/200\n",
      "821/821 [==============================] - 5s 6ms/step - loss: 0.1219 - accuracy: 0.0043 - val_loss: 0.1178 - val_accuracy: 0.0035\n",
      "Epoch 151/200\n",
      "821/821 [==============================] - 3s 4ms/step - loss: 0.1218 - accuracy: 0.0047 - val_loss: 0.1178 - val_accuracy: 0.0037\n",
      "Epoch 152/200\n",
      "821/821 [==============================] - 3s 4ms/step - loss: 0.1218 - accuracy: 0.0042 - val_loss: 0.1177 - val_accuracy: 0.0037\n",
      "Epoch 153/200\n",
      "821/821 [==============================] - 3s 4ms/step - loss: 0.1218 - accuracy: 0.0045 - val_loss: 0.1177 - val_accuracy: 0.0037\n",
      "Epoch 154/200\n",
      "821/821 [==============================] - 3s 4ms/step - loss: 0.1218 - accuracy: 0.0046 - val_loss: 0.1177 - val_accuracy: 0.0041\n",
      "Epoch 155/200\n",
      "821/821 [==============================] - 4s 4ms/step - loss: 0.1218 - accuracy: 0.0037 - val_loss: 0.1177 - val_accuracy: 0.0041\n",
      "Epoch 156/200\n",
      "821/821 [==============================] - 3s 4ms/step - loss: 0.1217 - accuracy: 0.0038 - val_loss: 0.1176 - val_accuracy: 0.0040\n",
      "Epoch 157/200\n",
      "821/821 [==============================] - 3s 4ms/step - loss: 0.1217 - accuracy: 0.0041 - val_loss: 0.1177 - val_accuracy: 0.0039\n",
      "Epoch 158/200\n",
      "821/821 [==============================] - 3s 4ms/step - loss: 0.1217 - accuracy: 0.0040 - val_loss: 0.1177 - val_accuracy: 0.0039\n",
      "Epoch 159/200\n",
      "821/821 [==============================] - 3s 4ms/step - loss: 0.1217 - accuracy: 0.0045 - val_loss: 0.1176 - val_accuracy: 0.0039\n",
      "Epoch 160/200\n",
      "821/821 [==============================] - 3s 4ms/step - loss: 0.1217 - accuracy: 0.0040 - val_loss: 0.1176 - val_accuracy: 0.0039\n",
      "Epoch 161/200\n",
      "821/821 [==============================] - 4s 5ms/step - loss: 0.1217 - accuracy: 0.0041 - val_loss: 0.1176 - val_accuracy: 0.0038\n",
      "Epoch 162/200\n",
      "821/821 [==============================] - 3s 4ms/step - loss: 0.1217 - accuracy: 0.0038 - val_loss: 0.1176 - val_accuracy: 0.0038\n",
      "Epoch 163/200\n",
      "821/821 [==============================] - 3s 4ms/step - loss: 0.1216 - accuracy: 0.0040 - val_loss: 0.1176 - val_accuracy: 0.0041\n",
      "Epoch 164/200\n",
      "821/821 [==============================] - 3s 4ms/step - loss: 0.1216 - accuracy: 0.0044 - val_loss: 0.1175 - val_accuracy: 0.0039\n",
      "Epoch 165/200\n",
      "821/821 [==============================] - 4s 4ms/step - loss: 0.1216 - accuracy: 0.0038 - val_loss: 0.1175 - val_accuracy: 0.0040\n",
      "Epoch 166/200\n",
      "821/821 [==============================] - 3s 4ms/step - loss: 0.1216 - accuracy: 0.0041 - val_loss: 0.1175 - val_accuracy: 0.0040\n",
      "Epoch 167/200\n",
      "821/821 [==============================] - 3s 4ms/step - loss: 0.1216 - accuracy: 0.0042 - val_loss: 0.1174 - val_accuracy: 0.0039\n",
      "Epoch 168/200\n",
      "821/821 [==============================] - 3s 4ms/step - loss: 0.1215 - accuracy: 0.0046 - val_loss: 0.1174 - val_accuracy: 0.0038\n",
      "Epoch 169/200\n",
      "821/821 [==============================] - 4s 4ms/step - loss: 0.1215 - accuracy: 0.0040 - val_loss: 0.1174 - val_accuracy: 0.0039\n",
      "Epoch 170/200\n",
      "821/821 [==============================] - 3s 4ms/step - loss: 0.1215 - accuracy: 0.0043 - val_loss: 0.1174 - val_accuracy: 0.0040\n",
      "Epoch 171/200\n",
      "821/821 [==============================] - 4s 4ms/step - loss: 0.1215 - accuracy: 0.0040 - val_loss: 0.1174 - val_accuracy: 0.0041\n",
      "Epoch 172/200\n",
      "821/821 [==============================] - 4s 5ms/step - loss: 0.1215 - accuracy: 0.0044 - val_loss: 0.1173 - val_accuracy: 0.0041\n",
      "Epoch 173/200\n",
      "821/821 [==============================] - 3s 4ms/step - loss: 0.1215 - accuracy: 0.0041 - val_loss: 0.1173 - val_accuracy: 0.0042\n",
      "Epoch 174/200\n",
      "821/821 [==============================] - 3s 4ms/step - loss: 0.1215 - accuracy: 0.0041 - val_loss: 0.1173 - val_accuracy: 0.0045\n",
      "Epoch 175/200\n",
      "821/821 [==============================] - 3s 4ms/step - loss: 0.1215 - accuracy: 0.0043 - val_loss: 0.1173 - val_accuracy: 0.0047\n",
      "Epoch 176/200\n",
      "821/821 [==============================] - 3s 4ms/step - loss: 0.1215 - accuracy: 0.0043 - val_loss: 0.1173 - val_accuracy: 0.0041\n",
      "Epoch 177/200\n",
      "821/821 [==============================] - 3s 4ms/step - loss: 0.1214 - accuracy: 0.0045 - val_loss: 0.1173 - val_accuracy: 0.0045\n",
      "Epoch 178/200\n",
      "821/821 [==============================] - 3s 4ms/step - loss: 0.1214 - accuracy: 0.0043 - val_loss: 0.1173 - val_accuracy: 0.0043\n",
      "Epoch 179/200\n",
      "821/821 [==============================] - 3s 4ms/step - loss: 0.1214 - accuracy: 0.0044 - val_loss: 0.1172 - val_accuracy: 0.0042\n",
      "Epoch 180/200\n",
      "821/821 [==============================] - 3s 4ms/step - loss: 0.1213 - accuracy: 0.0045 - val_loss: 0.1172 - val_accuracy: 0.0046\n",
      "Epoch 181/200\n",
      "821/821 [==============================] - 3s 4ms/step - loss: 0.1213 - accuracy: 0.0043 - val_loss: 0.1172 - val_accuracy: 0.0045\n",
      "Epoch 182/200\n",
      "821/821 [==============================] - 4s 5ms/step - loss: 0.1213 - accuracy: 0.0042 - val_loss: 0.1171 - val_accuracy: 0.0045\n",
      "Epoch 183/200\n",
      "821/821 [==============================] - 4s 5ms/step - loss: 0.1213 - accuracy: 0.0045 - val_loss: 0.1171 - val_accuracy: 0.0043\n",
      "Epoch 184/200\n",
      "821/821 [==============================] - 4s 4ms/step - loss: 0.1213 - accuracy: 0.0044 - val_loss: 0.1171 - val_accuracy: 0.0046\n",
      "Epoch 185/200\n",
      "821/821 [==============================] - 3s 4ms/step - loss: 0.1212 - accuracy: 0.0046 - val_loss: 0.1171 - val_accuracy: 0.0041\n",
      "Epoch 186/200\n",
      "821/821 [==============================] - 3s 4ms/step - loss: 0.1212 - accuracy: 0.0045 - val_loss: 0.1170 - val_accuracy: 0.0043\n",
      "Epoch 187/200\n",
      "821/821 [==============================] - 3s 4ms/step - loss: 0.1212 - accuracy: 0.0046 - val_loss: 0.1170 - val_accuracy: 0.0043\n",
      "Epoch 188/200\n",
      "821/821 [==============================] - 3s 4ms/step - loss: 0.1212 - accuracy: 0.0048 - val_loss: 0.1170 - val_accuracy: 0.0041\n",
      "Epoch 189/200\n",
      "821/821 [==============================] - 3s 4ms/step - loss: 0.1212 - accuracy: 0.0047 - val_loss: 0.1170 - val_accuracy: 0.0041\n",
      "Epoch 190/200\n",
      "821/821 [==============================] - 3s 4ms/step - loss: 0.1212 - accuracy: 0.0049 - val_loss: 0.1170 - val_accuracy: 0.0043\n",
      "Epoch 191/200\n",
      "821/821 [==============================] - 3s 4ms/step - loss: 0.1211 - accuracy: 0.0044 - val_loss: 0.1169 - val_accuracy: 0.0042\n",
      "Epoch 192/200\n",
      "821/821 [==============================] - 3s 4ms/step - loss: 0.1211 - accuracy: 0.0048 - val_loss: 0.1169 - val_accuracy: 0.0045\n",
      "Epoch 193/200\n",
      "821/821 [==============================] - 4s 5ms/step - loss: 0.1211 - accuracy: 0.0046 - val_loss: 0.1169 - val_accuracy: 0.0042\n",
      "Epoch 194/200\n",
      "821/821 [==============================] - 4s 4ms/step - loss: 0.1211 - accuracy: 0.0045 - val_loss: 0.1169 - val_accuracy: 0.0045\n",
      "Epoch 195/200\n",
      "821/821 [==============================] - 3s 4ms/step - loss: 0.1211 - accuracy: 0.0049 - val_loss: 0.1169 - val_accuracy: 0.0042\n",
      "Epoch 196/200\n",
      "821/821 [==============================] - 3s 4ms/step - loss: 0.1210 - accuracy: 0.0053 - val_loss: 0.1168 - val_accuracy: 0.0046\n",
      "Epoch 197/200\n",
      "821/821 [==============================] - 3s 4ms/step - loss: 0.1210 - accuracy: 0.0054 - val_loss: 0.1168 - val_accuracy: 0.0043\n",
      "Epoch 198/200\n",
      "821/821 [==============================] - 3s 4ms/step - loss: 0.1210 - accuracy: 0.0051 - val_loss: 0.1168 - val_accuracy: 0.0046\n",
      "Epoch 199/200\n",
      "821/821 [==============================] - 3s 4ms/step - loss: 0.1210 - accuracy: 0.0052 - val_loss: 0.1168 - val_accuracy: 0.0046\n",
      "Epoch 200/200\n",
      "821/821 [==============================] - 3s 4ms/step - loss: 0.1209 - accuracy: 0.0045 - val_loss: 0.1167 - val_accuracy: 0.0045\n"
     ]
    }
   ],
   "source": [
    "history=model.fit(X_train,y_train,batch_size=32,epochs=200,verbose=1,callbacks=[es],validation_split=0.25,shuffle=True)"
   ]
  },
  {
   "cell_type": "code",
   "execution_count": 23,
   "metadata": {
    "execution": {
     "iopub.execute_input": "2020-11-26T10:11:43.081361Z",
     "iopub.status.busy": "2020-11-26T10:11:43.080441Z",
     "iopub.status.idle": "2020-11-26T10:11:43.265119Z",
     "shell.execute_reply": "2020-11-26T10:11:43.265675Z"
    },
    "papermill": {
     "duration": 4.050702,
     "end_time": "2020-11-26T10:11:43.265834",
     "exception": false,
     "start_time": "2020-11-26T10:11:39.215132",
     "status": "completed"
    },
    "tags": []
   },
   "outputs": [
    {
     "data": {
      "image/png": "[encoded data removed]",
      "text/plain": [
       "<Figure size 432x288 with 1 Axes>"
      ]
     },
     "metadata": {
      "needs_background": "light"
     },
     "output_type": "display_data"
    }
   ],
   "source": [
    "plt.plot(history.history['loss'])\n",
    "plt.plot(history.history['val_loss'])\n",
    "plt.title('Model validation loss')\n",
    "plt.xlabel('Epoch')\n",
    "plt.ylabel('Loss')\n",
    "plt.legend(['train','validation'], loc='upper right')\n",
    "plt.show()"
   ]
  },
  {
   "cell_type": "code",
   "execution_count": 24,
   "metadata": {
    "execution": {
     "iopub.execute_input": "2020-11-26T10:11:51.937342Z",
     "iopub.status.busy": "2020-11-26T10:11:51.926484Z",
     "iopub.status.idle": "2020-11-26T10:11:52.109687Z",
     "shell.execute_reply": "2020-11-26T10:11:52.110166Z"
    },
    "papermill": {
     "duration": 4.48346,
     "end_time": "2020-11-26T10:11:52.110347",
     "exception": false,
     "start_time": "2020-11-26T10:11:47.626887",
     "status": "completed"
    },
    "tags": []
   },
   "outputs": [
    {
     "data": {
      "image/png": "[encoded data removed]",
      "text/plain": [
       "<Figure size 432x288 with 1 Axes>"
      ]
     },
     "metadata": {
      "needs_background": "light"
     },
     "output_type": "display_data"
    }
   ],
   "source": [
    "plt.plot(history.history['accuracy'],label='accuracy')\n",
    "plt.plot(history.history['val_accuracy'],label='validation accuracy')\n",
    "plt.legend(loc='best')\n",
    "plt.show()"
   ]
  },
  {
   "cell_type": "code",
   "execution_count": 25,
   "metadata": {
    "execution": {
     "iopub.execute_input": "2020-11-26T10:11:59.705074Z",
     "iopub.status.busy": "2020-11-26T10:11:59.702531Z",
     "iopub.status.idle": "2020-11-26T10:11:59.710549Z",
     "shell.execute_reply": "2020-11-26T10:11:59.711236Z"
    },
    "papermill": {
     "duration": 3.736118,
     "end_time": "2020-11-26T10:11:59.711456",
     "exception": false,
     "start_time": "2020-11-26T10:11:55.975338",
     "status": "completed"
    },
    "tags": []
   },
   "outputs": [
    {
     "name": "stdout",
     "output_type": "stream",
     "text": [
      "CPU times: user 4.13 ms, sys: 1 µs, total: 4.13 ms\n",
      "Wall time: 3.59 ms\n"
     ]
    }
   ],
   "source": [
    "%%time\n",
    "training[\"pad\"] = -1\n",
    "test[\"pad\"] = -1\n",
    "INIT_COLS = [f\"start_{i}\" for i in range(625)]\n",
    "STOP_COLS = [f\"stop_{i}\" for i in range(625)]"
   ]
  },
  {
   "cell_type": "code",
   "execution_count": 26,
   "metadata": {
    "execution": {
     "iopub.execute_input": "2020-11-26T10:12:07.479834Z",
     "iopub.status.busy": "2020-11-26T10:12:07.478515Z",
     "iopub.status.idle": "2020-11-26T10:12:07.721358Z",
     "shell.execute_reply": "2020-11-26T10:12:07.720814Z"
    },
    "papermill": {
     "duration": 3.93804,
     "end_time": "2020-11-26T10:12:07.721489",
     "exception": false,
     "start_time": "2020-11-26T10:12:03.783449",
     "status": "completed"
    },
    "tags": []
   },
   "outputs": [],
   "source": [
    "grid = test[STOP_COLS].values"
   ]
  },
  {
   "cell_type": "code",
   "execution_count": 27,
   "metadata": {
    "execution": {
     "iopub.execute_input": "2020-11-26T10:12:15.437680Z",
     "iopub.status.busy": "2020-11-26T10:12:15.436743Z",
     "iopub.status.idle": "2020-11-26T10:12:15.690456Z",
     "shell.execute_reply": "2020-11-26T10:12:15.690949Z"
    },
    "papermill": {
     "duration": 4.223464,
     "end_time": "2020-11-26T10:12:15.691079",
     "exception": false,
     "start_time": "2020-11-26T10:12:11.467615",
     "status": "completed"
    },
    "tags": []
   },
   "outputs": [
    {
     "data": {
      "text/plain": [
       "6637"
      ]
     },
     "execution_count": 27,
     "metadata": {},
     "output_type": "execute_result"
    }
   ],
   "source": [
    "import gc\n",
    "sub = test[['id']].copy()\n",
    "tp = pd.DataFrame(grid, columns=INIT_COLS)\n",
    "sub = sub.join(tp)\n",
    "del tp\n",
    "gc.collect()"
   ]
  },
  {
   "cell_type": "code",
   "execution_count": 28,
   "metadata": {
    "execution": {
     "iopub.execute_input": "2020-11-26T10:12:23.708683Z",
     "iopub.status.busy": "2020-11-26T10:12:23.707591Z",
     "iopub.status.idle": "2020-11-26T10:12:23.744782Z",
     "shell.execute_reply": "2020-11-26T10:12:23.746762Z"
    },
    "papermill": {
     "duration": 3.927463,
     "end_time": "2020-11-26T10:12:23.747135",
     "exception": false,
     "start_time": "2020-11-26T10:12:19.819672",
     "status": "completed"
    },
    "tags": []
   },
   "outputs": [
    {
     "data": {
      "text/html": [
       "<div>\n",
       "<style scoped>\n",
       "    .dataframe tbody tr th:only-of-type {\n",
       "        vertical-align: middle;\n",
       "    }\n",
       "\n",
       "    .dataframe tbody tr th {\n",
       "        vertical-align: top;\n",
       "    }\n",
       "\n",
       "    .dataframe thead th {\n",
       "        text-align: right;\n",
       "    }\n",
       "</style>\n",
       "<table border=\"1\" class=\"dataframe\">\n",
       "  <thead>\n",
       "    <tr style=\"text-align: right;\">\n",
       "      <th></th>\n",
       "      <th>id</th>\n",
       "      <th>start_0</th>\n",
       "      <th>start_1</th>\n",
       "      <th>start_2</th>\n",
       "      <th>start_3</th>\n",
       "      <th>start_4</th>\n",
       "      <th>start_5</th>\n",
       "      <th>start_6</th>\n",
       "      <th>start_7</th>\n",
       "      <th>start_8</th>\n",
       "      <th>...</th>\n",
       "      <th>start_615</th>\n",
       "      <th>start_616</th>\n",
       "      <th>start_617</th>\n",
       "      <th>start_618</th>\n",
       "      <th>start_619</th>\n",
       "      <th>start_620</th>\n",
       "      <th>start_621</th>\n",
       "      <th>start_622</th>\n",
       "      <th>start_623</th>\n",
       "      <th>start_624</th>\n",
       "    </tr>\n",
       "  </thead>\n",
       "  <tbody>\n",
       "    <tr>\n",
       "      <th>0</th>\n",
       "      <td>50000</td>\n",
       "      <td>0</td>\n",
       "      <td>0</td>\n",
       "      <td>1</td>\n",
       "      <td>0</td>\n",
       "      <td>0</td>\n",
       "      <td>0</td>\n",
       "      <td>0</td>\n",
       "      <td>0</td>\n",
       "      <td>0</td>\n",
       "      <td>...</td>\n",
       "      <td>0</td>\n",
       "      <td>0</td>\n",
       "      <td>0</td>\n",
       "      <td>0</td>\n",
       "      <td>1</td>\n",
       "      <td>0</td>\n",
       "      <td>1</td>\n",
       "      <td>0</td>\n",
       "      <td>0</td>\n",
       "      <td>1</td>\n",
       "    </tr>\n",
       "    <tr>\n",
       "      <th>1</th>\n",
       "      <td>50001</td>\n",
       "      <td>0</td>\n",
       "      <td>0</td>\n",
       "      <td>0</td>\n",
       "      <td>0</td>\n",
       "      <td>0</td>\n",
       "      <td>0</td>\n",
       "      <td>0</td>\n",
       "      <td>1</td>\n",
       "      <td>0</td>\n",
       "      <td>...</td>\n",
       "      <td>0</td>\n",
       "      <td>0</td>\n",
       "      <td>1</td>\n",
       "      <td>1</td>\n",
       "      <td>0</td>\n",
       "      <td>1</td>\n",
       "      <td>0</td>\n",
       "      <td>0</td>\n",
       "      <td>0</td>\n",
       "      <td>0</td>\n",
       "    </tr>\n",
       "    <tr>\n",
       "      <th>2</th>\n",
       "      <td>50002</td>\n",
       "      <td>0</td>\n",
       "      <td>1</td>\n",
       "      <td>0</td>\n",
       "      <td>0</td>\n",
       "      <td>1</td>\n",
       "      <td>0</td>\n",
       "      <td>0</td>\n",
       "      <td>0</td>\n",
       "      <td>0</td>\n",
       "      <td>...</td>\n",
       "      <td>1</td>\n",
       "      <td>1</td>\n",
       "      <td>0</td>\n",
       "      <td>0</td>\n",
       "      <td>0</td>\n",
       "      <td>0</td>\n",
       "      <td>1</td>\n",
       "      <td>0</td>\n",
       "      <td>1</td>\n",
       "      <td>0</td>\n",
       "    </tr>\n",
       "    <tr>\n",
       "      <th>3</th>\n",
       "      <td>50003</td>\n",
       "      <td>0</td>\n",
       "      <td>0</td>\n",
       "      <td>0</td>\n",
       "      <td>0</td>\n",
       "      <td>0</td>\n",
       "      <td>0</td>\n",
       "      <td>0</td>\n",
       "      <td>0</td>\n",
       "      <td>0</td>\n",
       "      <td>...</td>\n",
       "      <td>0</td>\n",
       "      <td>0</td>\n",
       "      <td>0</td>\n",
       "      <td>0</td>\n",
       "      <td>0</td>\n",
       "      <td>0</td>\n",
       "      <td>0</td>\n",
       "      <td>1</td>\n",
       "      <td>0</td>\n",
       "      <td>0</td>\n",
       "    </tr>\n",
       "    <tr>\n",
       "      <th>4</th>\n",
       "      <td>50004</td>\n",
       "      <td>0</td>\n",
       "      <td>0</td>\n",
       "      <td>0</td>\n",
       "      <td>0</td>\n",
       "      <td>0</td>\n",
       "      <td>0</td>\n",
       "      <td>0</td>\n",
       "      <td>0</td>\n",
       "      <td>0</td>\n",
       "      <td>...</td>\n",
       "      <td>0</td>\n",
       "      <td>0</td>\n",
       "      <td>0</td>\n",
       "      <td>0</td>\n",
       "      <td>0</td>\n",
       "      <td>0</td>\n",
       "      <td>0</td>\n",
       "      <td>0</td>\n",
       "      <td>0</td>\n",
       "      <td>0</td>\n",
       "    </tr>\n",
       "  </tbody>\n",
       "</table>\n",
       "<p>5 rows × 626 columns</p>\n",
       "</div>"
      ],
      "text/plain": [
       "      id  start_0  start_1  start_2  start_3  start_4  start_5  start_6  \\\n",
       "0  50000        0        0        1        0        0        0        0   \n",
       "1  50001        0        0        0        0        0        0        0   \n",
       "2  50002        0        1        0        0        1        0        0   \n",
       "3  50003        0        0        0        0        0        0        0   \n",
       "4  50004        0        0        0        0        0        0        0   \n",
       "\n",
       "   start_7  start_8  ...  start_615  start_616  start_617  start_618  \\\n",
       "0        0        0  ...          0          0          0          0   \n",
       "1        1        0  ...          0          0          1          1   \n",
       "2        0        0  ...          1          1          0          0   \n",
       "3        0        0  ...          0          0          0          0   \n",
       "4        0        0  ...          0          0          0          0   \n",
       "\n",
       "   start_619  start_620  start_621  start_622  start_623  start_624  \n",
       "0          1          0          1          0          0          1  \n",
       "1          0          1          0          0          0          0  \n",
       "2          0          0          1          0          1          0  \n",
       "3          0          0          0          1          0          0  \n",
       "4          0          0          0          0          0          0  \n",
       "\n",
       "[5 rows x 626 columns]"
      ]
     },
     "execution_count": 28,
     "metadata": {},
     "output_type": "execute_result"
    }
   ],
   "source": [
    "sub.head()"
   ]
  },
  {
   "cell_type": "code",
   "execution_count": 29,
   "metadata": {
    "execution": {
     "iopub.execute_input": "2020-11-26T10:12:31.184743Z",
     "iopub.status.busy": "2020-11-26T10:12:31.184012Z",
     "iopub.status.idle": "2020-11-26T10:12:38.015686Z",
     "shell.execute_reply": "2020-11-26T10:12:38.015089Z"
    },
    "papermill": {
     "duration": 10.513313,
     "end_time": "2020-11-26T10:12:38.015813",
     "exception": false,
     "start_time": "2020-11-26T10:12:27.502500",
     "status": "completed"
    },
    "tags": []
   },
   "outputs": [],
   "source": [
    "sub.to_csv(\"submission.csv\", index=False)"
   ]
  },
  {
   "cell_type": "code",
   "execution_count": 30,
   "metadata": {
    "execution": {
     "iopub.execute_input": "2020-11-26T10:12:45.809928Z",
     "iopub.status.busy": "2020-11-26T10:12:45.808579Z",
     "iopub.status.idle": "2020-11-26T10:12:45.855886Z",
     "shell.execute_reply": "2020-11-26T10:12:45.855356Z"
    },
    "papermill": {
     "duration": 4.113456,
     "end_time": "2020-11-26T10:12:45.855989",
     "exception": false,
     "start_time": "2020-11-26T10:12:41.742533",
     "status": "completed"
    },
    "tags": []
   },
   "outputs": [],
   "source": [
    "from keras.models import load_model\n",
    "model.save('conway.h5')"
   ]
  },
  {
   "cell_type": "code",
   "execution_count": 31,
   "metadata": {
    "execution": {
     "iopub.execute_input": "2020-11-26T10:12:54.336171Z",
     "iopub.status.busy": "2020-11-26T10:12:54.335119Z",
     "iopub.status.idle": "2020-11-26T10:12:54.938588Z",
     "shell.execute_reply": "2020-11-26T10:12:54.938093Z"
    },
    "papermill": {
     "duration": 4.581,
     "end_time": "2020-11-26T10:12:54.938703",
     "exception": false,
     "start_time": "2020-11-26T10:12:50.357703",
     "status": "completed"
    },
    "tags": []
   },
   "outputs": [
    {
     "data": {
      "text/plain": [
       "array([[0.03160181, 0.03829009, 0.03678171, ..., 0.04187809, 0.03846163,\n",
       "        0.07021987],\n",
       "       [0.05422441, 0.06231201, 0.06489637, ..., 0.06977611, 0.06665205,\n",
       "        0.04600007],\n",
       "       [0.08988803, 0.07657872, 0.07150489, ..., 0.06585227, 0.0967559 ,\n",
       "        0.08195002],\n",
       "       ...,\n",
       "       [0.20341207, 0.17213252, 0.20248757, ..., 0.20404015, 0.20700434,\n",
       "        0.22293185],\n",
       "       [0.10557017, 0.10562997, 0.09394077, ..., 0.13928194, 0.12897044,\n",
       "        0.13100669],\n",
       "       [0.22876696, 0.19582096, 0.23963653, ..., 0.23670816, 0.22476916,\n",
       "        0.23300475]], dtype=float32)"
      ]
     },
     "execution_count": 31,
     "metadata": {},
     "output_type": "execute_result"
    }
   ],
   "source": [
    "predict = model.predict(X_test)\n",
    "predict"
   ]
  },
  {
   "cell_type": "code",
   "execution_count": 32,
   "metadata": {
    "execution": {
     "iopub.execute_input": "2020-11-26T10:13:03.228114Z",
     "iopub.status.busy": "2020-11-26T10:13:03.113028Z",
     "iopub.status.idle": "2020-11-26T10:13:04.869162Z",
     "shell.execute_reply": "2020-11-26T10:13:04.868641Z"
    },
    "papermill": {
     "duration": 5.871956,
     "end_time": "2020-11-26T10:13:04.869278",
     "exception": false,
     "start_time": "2020-11-26T10:12:58.997322",
     "status": "completed"
    },
    "tags": []
   },
   "outputs": [],
   "source": [
    "submit_df = pd.DataFrame(index=test.index, columns=['start_' + str(i) for i in range(625)])"
   ]
  }
 ],
 "metadata": {
  "kernelspec": {
   "display_name": "Python 3",
   "language": "python",
   "name": "python3"
  },
  "language_info": {
   "codemirror_mode": {
    "name": "ipython",
    "version": 3
   },
   "file_extension": ".py",
   "mimetype": "text/x-python",
   "name": "python",
   "nbconvert_exporter": "python",
   "pygments_lexer": "ipython3",
   "version": "3.7.6"
  },
  "papermill": {
   "duration": 1541.972043,
   "end_time": "2020-11-26T10:13:10.514457",
   "environment_variables": {},
   "exception": null,
   "input_path": "__notebook__.ipynb",
   "output_path": "__notebook__.ipynb",
   "parameters": {},
   "start_time": "2020-11-26T09:47:28.542414",
   "version": "2.1.0"
  }
 },
 "nbformat": 4,
 "nbformat_minor": 4
}
